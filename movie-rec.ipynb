{
 "cells": [
  {
   "cell_type": "code",
   "execution_count": 2,
   "id": "4aea32d3-eeaf-4731-8a1c-734a468f4dac",
   "metadata": {},
   "outputs": [],
   "source": [
    "import pandas as pd\n",
    "import numpy as np\n",
    "from scipy.sparse import csr_matrix\n",
    "from scipy.sparse.linalg import svds\n",
    "from sklearn.feature_extraction.text import TfidfVectorizer\n",
    "from surprise import Dataset, Reader, SVD\n",
    "from surprise.model_selection import cross_validate, GridSearchCV"
   ]
  },
  {
   "cell_type": "code",
   "execution_count": 3,
   "id": "aae0594d-200a-4f56-b83c-45a127268a3a",
   "metadata": {},
   "outputs": [],
   "source": [
    "ratings = pd.read_csv('data/ratings.csv')\n",
    "movies = pd.read_csv('data/movies.csv')"
   ]
  },
  {
   "cell_type": "code",
   "execution_count": 4,
   "id": "4e6cb93e-1862-4c4b-af31-0432de68b940",
   "metadata": {},
   "outputs": [],
   "source": [
    "data = pd.merge(ratings, movies, on='movieId')"
   ]
  },
  {
   "cell_type": "code",
   "execution_count": 7,
   "id": "bada8835-7a3f-4e6b-9e71-45bef668d9f1",
   "metadata": {},
   "outputs": [],
   "source": [
    "user_movie_matrix = data.pivot_table(index='userId', columns='title', values='rating')"
   ]
  },
  {
   "cell_type": "code",
   "execution_count": 8,
   "id": "d52ca785-a057-46d3-ab02-fbcef623d5cc",
   "metadata": {},
   "outputs": [],
   "source": [
    "user_movie_matrix.fillna(0, inplace=True)"
   ]
  },
  {
   "cell_type": "code",
   "execution_count": 9,
   "id": "c9ca52e0-1db0-4e17-81c4-491bae3b2627",
   "metadata": {},
   "outputs": [],
   "source": [
    "user_movie_matrix_mean = user_movie_matrix.mean(axis=1)\n",
    "user_movie_matrix_demeaned = user_movie_matrix.sub(user_movie_matrix_mean, axis=0)"
   ]
  },
  {
   "cell_type": "code",
   "execution_count": 10,
   "id": "3c2c0301-9ae6-497d-b2d3-59b0c89d7a6d",
   "metadata": {},
   "outputs": [],
   "source": [
    "user_movie_matrix_demeaned_np = user_movie_matrix_demeaned.values"
   ]
  },
  {
   "cell_type": "code",
   "execution_count": 11,
   "id": "d249293a-66f1-44fa-983a-ea7c900c8d86",
   "metadata": {},
   "outputs": [],
   "source": [
    "user_movie_matrix_sparse = csr_matrix(user_movie_matrix_demeaned_np)"
   ]
  },
  {
   "cell_type": "code",
   "execution_count": 12,
   "id": "83171468-8b12-4582-ad89-a5d5e73326e4",
   "metadata": {},
   "outputs": [
    {
     "name": "stdout",
     "output_type": "stream",
     "text": [
      "<class 'scipy.sparse._csr.csr_matrix'>\n",
      "(610, 9719)\n"
     ]
    }
   ],
   "source": [
    "print(type(user_movie_matrix_sparse))\n",
    "print(user_movie_matrix_sparse.shape)"
   ]
  },
  {
   "cell_type": "code",
   "execution_count": 13,
   "id": "9e32443f-7f94-44cb-a51c-76c68bd68fd6",
   "metadata": {},
   "outputs": [],
   "source": [
    "U, sigma, Vt = svds(user_movie_matrix_sparse, k=50)\n",
    "sigma = np.diag(sigma)"
   ]
  },
  {
   "cell_type": "code",
   "execution_count": 14,
   "id": "fe6b5ec8-62be-4493-bdd6-d14d671a6aa4",
   "metadata": {},
   "outputs": [],
   "source": [
    "all_user_predicted_ratings = np.dot(np.dot(U, sigma), Vt) + user_movie_matrix_mean.values.reshape(-1, 1)\n",
    "preds_df = pd.DataFrame(all_user_predicted_ratings, columns=user_movie_matrix.columns)"
   ]
  },
  {
   "cell_type": "code",
   "execution_count": 15,
   "id": "b5e421b7-640a-4cec-92b6-130f9606693d",
   "metadata": {},
   "outputs": [],
   "source": [
    "def recommend_movies_svd(user_id, num_recommendations=5):\n",
    "    user_row_number = user_id - 1  # UserId starts from 1\n",
    "    sorted_user_predictions = preds_df.iloc[user_row_number].sort_values(ascending=False)\n",
    "    recommendations = sorted_user_predictions.head(num_recommendations)\n",
    "    return recommendations"
   ]
  },
  {
   "cell_type": "code",
   "execution_count": 16,
   "id": "43bb2f3f-4a52-491c-bb3f-d376ac533b0e",
   "metadata": {},
   "outputs": [
    {
     "name": "stdout",
     "output_type": "stream",
     "text": [
      "Recommended movies for user 1 using SVD:\n",
      " title\n",
      "Star Wars: Episode V - The Empire Strikes Back (1980)                             6.430872\n",
      "Star Wars: Episode IV - A New Hope (1977)                                         6.341897\n",
      "Star Wars: Episode VI - Return of the Jedi (1983)                                 6.037529\n",
      "Indiana Jones and the Last Crusade (1989)                                         6.020816\n",
      "Raiders of the Lost Ark (Indiana Jones and the Raiders of the Lost Ark) (1981)    5.995290\n",
      "Name: 0, dtype: float64\n"
     ]
    }
   ],
   "source": [
    "recommendations_svd = recommend_movies_svd(user_id=1)\n",
    "print(\"Recommended movies for user 1 using SVD:\\n\", recommendations_svd)"
   ]
  },
  {
   "cell_type": "code",
   "execution_count": 19,
   "id": "c9882acd-e7c0-4d50-8826-42c281bc0f16",
   "metadata": {},
   "outputs": [],
   "source": [
    "tfidf = TfidfVectorizer(stop_words='english')\n",
    "movies['genres'] = movies['genres'].fillna('')\n",
    "tfidf_matrix = tfidf.fit_transform(movies['genres'])"
   ]
  },
  {
   "cell_type": "code",
   "execution_count": 23,
   "id": "716adbb0-a270-4eda-b29d-fcc1631ac605",
   "metadata": {},
   "outputs": [],
   "source": [
    "from sklearn.metrics.pairwise import cosine_similarity\n",
    "cosine_sim = cosine_similarity(tfidf_matrix, tfidf_matrix)"
   ]
  },
  {
   "cell_type": "code",
   "execution_count": 24,
   "id": "4d831b80-4119-47cc-bacd-ca63c66fab76",
   "metadata": {},
   "outputs": [],
   "source": [
    "def get_content_recommendations(title, num_recommendations=5):\n",
    "    idx = movies[movies['title'] == title].index[0]\n",
    "    sim_scores = list(enumerate(cosine_sim[idx]))\n",
    "    sim_scores = sorted(sim_scores, key=lambda x: x[1], reverse=True)\n",
    "    sim_scores = sim_scores[1:num_recommendations+1]\n",
    "    movie_indices = [i[0] for i in sim_scores]\n",
    "    return movies['title'].iloc[movie_indices]"
   ]
  },
  {
   "cell_type": "code",
   "execution_count": 25,
   "id": "e80d4e7e-150e-41da-9467-f6720a11146b",
   "metadata": {},
   "outputs": [
    {
     "name": "stdout",
     "output_type": "stream",
     "text": [
      "Content-based recommendations for 'Toy Story (1995)':\n",
      " 1706                                       Antz (1998)\n",
      "2355                                Toy Story 2 (1999)\n",
      "2809    Adventures of Rocky and Bullwinkle, The (2000)\n",
      "3000                  Emperor's New Groove, The (2000)\n",
      "3568                             Monsters, Inc. (2001)\n",
      "Name: title, dtype: object\n"
     ]
    }
   ],
   "source": [
    "content_recommendations = get_content_recommendations(\"Toy Story (1995)\")\n",
    "print(\"Content-based recommendations for 'Toy Story (1995)':\\n\", content_recommendations)"
   ]
  },
  {
   "cell_type": "code",
   "execution_count": 26,
   "id": "5c679a4c-1f38-4bf8-b87f-8335323d2cc0",
   "metadata": {},
   "outputs": [],
   "source": [
    "def hybrid_recommendations(user_id, title, num_recommendations=5):\n",
    "    user_recommendations = recommend_movies_svd(user_id, num_recommendations)\n",
    "    content_recommendations = get_content_recommendations(title, num_recommendations)\n",
    "    \n",
    "    combined_recommendations = pd.concat([user_recommendations, content_recommendations]).drop_duplicates().head(num_recommendations)\n",
    "    return combined_recommendations"
   ]
  },
  {
   "cell_type": "code",
   "execution_count": 27,
   "id": "5724b837-2d54-4fa1-b20d-d1328196df67",
   "metadata": {},
   "outputs": [
    {
     "name": "stdout",
     "output_type": "stream",
     "text": [
      "Hybrid recommendations for user 1 and 'Toy Story (1995)':\n",
      " Star Wars: Episode V - The Empire Strikes Back (1980)                             6.430872\n",
      "Star Wars: Episode IV - A New Hope (1977)                                         6.341897\n",
      "Star Wars: Episode VI - Return of the Jedi (1983)                                 6.037529\n",
      "Indiana Jones and the Last Crusade (1989)                                         6.020816\n",
      "Raiders of the Lost Ark (Indiana Jones and the Raiders of the Lost Ark) (1981)     5.99529\n",
      "dtype: object\n"
     ]
    }
   ],
   "source": [
    "hybrid_recommendations = hybrid_recommendations(user_id=1, title=\"Toy Story (1995)\")\n",
    "print(\"Hybrid recommendations for user 1 and 'Toy Story (1995)':\\n\", hybrid_recommendations)"
   ]
  },
  {
   "cell_type": "code",
   "execution_count": 28,
   "id": "7a737c8b-cea0-4958-bb24-241af3dc8ce6",
   "metadata": {},
   "outputs": [],
   "source": [
    "reader = Reader(rating_scale=(0.5, 5))\n",
    "data = Dataset.load_from_df(ratings[['userId', 'movieId', 'rating']], reader)"
   ]
  },
  {
   "cell_type": "code",
   "execution_count": 29,
   "id": "119edd77-b037-46f1-b0da-31959697d564",
   "metadata": {},
   "outputs": [],
   "source": [
    "algo = SVD()"
   ]
  },
  {
   "cell_type": "code",
   "execution_count": 30,
   "id": "8305bc65-ec75-4485-b9f9-bd1f46e9bf67",
   "metadata": {},
   "outputs": [
    {
     "name": "stdout",
     "output_type": "stream",
     "text": [
      "Evaluating RMSE, MAE of algorithm SVD on 5 split(s).\n",
      "\n",
      "                  Fold 1  Fold 2  Fold 3  Fold 4  Fold 5  Mean    Std     \n",
      "RMSE (testset)    0.8750  0.8676  0.8724  0.8749  0.8771  0.8734  0.0033  \n",
      "MAE (testset)     0.6717  0.6661  0.6733  0.6698  0.6734  0.6709  0.0027  \n",
      "Fit time          1.13    0.83    0.81    0.82    0.82    0.88    0.13    \n",
      "Test time         0.24    0.07    0.07    0.13    0.07    0.12    0.07    \n"
     ]
    },
    {
     "data": {
      "text/plain": [
       "{'test_rmse': array([0.87500955, 0.86755813, 0.8723834 , 0.87494594, 0.877126  ]),\n",
       " 'test_mae': array([0.6717063 , 0.66609581, 0.67333407, 0.66979311, 0.67339015]),\n",
       " 'fit_time': (1.1312594413757324,\n",
       "  0.8257057666778564,\n",
       "  0.8128676414489746,\n",
       "  0.8152611255645752,\n",
       "  0.81691575050354),\n",
       " 'test_time': (0.2408161163330078,\n",
       "  0.07204890251159668,\n",
       "  0.07459259033203125,\n",
       "  0.13174748420715332,\n",
       "  0.07200193405151367)}"
      ]
     },
     "execution_count": 30,
     "metadata": {},
     "output_type": "execute_result"
    }
   ],
   "source": [
    "cross_validate(algo, data, measures=['RMSE', 'MAE'], cv=5, verbose=True)"
   ]
  },
  {
   "cell_type": "code",
   "execution_count": 31,
   "id": "7a244f41-64a2-4267-98cd-25c10a2d3df3",
   "metadata": {},
   "outputs": [],
   "source": [
    "param_grid = {\n",
    "    'n_factors': [50, 100, 150],\n",
    "    'n_epochs': [20, 30, 40],\n",
    "    'lr_all': [0.002, 0.005, 0.01],\n",
    "    'reg_all': [0.02, 0.1]\n",
    "}"
   ]
  },
  {
   "cell_type": "code",
   "execution_count": 32,
   "id": "edd23db0-ed8a-4065-b016-34afe61c23a9",
   "metadata": {},
   "outputs": [],
   "source": [
    "gs = GridSearchCV(SVD, param_grid, measures=['rmse'], cv=3)\n",
    "gs.fit(data)"
   ]
  },
  {
   "cell_type": "code",
   "execution_count": null,
   "id": "32a19c48-bba6-4cc7-ae07-db38e70fcde8",
   "metadata": {},
   "outputs": [],
   "source": [
    "best_algo = gs.best_estimator['rmse']\n",
    "print(\"Best RMSE score:\", gs.best_score['rmse'])\n",
    "print(\"Best parameters:\", gs.best_params['rmse'])"
   ]
  },
  {
   "cell_type": "code",
   "execution_count": null,
   "id": "85d90422-a345-4ac6-bfe2-5e3ebcb00230",
   "metadata": {},
   "outputs": [],
   "source": [
    "trainset = data.build_full_trainset()\n",
    "best_algo.fit(trainset)"
   ]
  },
  {
   "cell_type": "code",
   "execution_count": null,
   "id": "ee5e9540-bf6f-4ee8-a763-c09ffcf2adf9",
   "metadata": {},
   "outputs": [],
   "source": [
    "def surprise_recommend(user_id, movie_id):\n",
    "    prediction = best_algo.predict(user_id, movie_id)\n",
    "    return prediction.est"
   ]
  },
  {
   "cell_type": "code",
   "execution_count": null,
   "id": "61045df7-d2b5-4272-a1e9-36458f975b47",
   "metadata": {},
   "outputs": [],
   "source": [
    "predicted_rating = surprise_recommend(1, 1)\n",
    "print(f\"Predicted rating for user 1 and movie 1: {predicted_rating}\")"
   ]
  }
 ],
 "metadata": {
  "kernelspec": {
   "display_name": "Python 3 (ipykernel)",
   "language": "python",
   "name": "python3"
  },
  "language_info": {
   "codemirror_mode": {
    "name": "ipython",
    "version": 3
   },
   "file_extension": ".py",
   "mimetype": "text/x-python",
   "name": "python",
   "nbconvert_exporter": "python",
   "pygments_lexer": "ipython3",
   "version": "3.10.12"
  }
 },
 "nbformat": 4,
 "nbformat_minor": 5
}
